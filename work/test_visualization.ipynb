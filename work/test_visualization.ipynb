{
 "cells": [
  {
   "cell_type": "code",
   "execution_count": 7,
   "id": "0d0256c5-932b-4899-941b-86e3a6982e0c",
   "metadata": {},
   "outputs": [],
   "source": [
    "import requests\n",
    "import pandas as pd\n",
    "from prefect import flow, task, get_run_logger"
   ]
  },
  {
   "cell_type": "code",
   "execution_count": 8,
   "id": "e748d556-9b33-42b8-b044-848d509d4d26",
   "metadata": {},
   "outputs": [],
   "source": [
    "base_url = \"http://air4thai.pcd.go.th\"\n",
    "path = \"/services/getNewAQI_JSON.php\""
   ]
  },
  {
   "cell_type": "code",
   "execution_count": 9,
   "id": "bff37b76-05b7-4249-ba73-3e0a783bddbe",
   "metadata": {},
   "outputs": [
    {
     "name": "stdout",
     "output_type": "stream",
     "text": [
      "[{'stationID': '02t', 'nameTH': 'มหาวิทยาลัยราชภัฏบ้านสมเด็จเจ้าพระยา', 'nameEN': 'Bansomdejchaopraya Rajabhat University', 'areaTH': 'แขวงหิรัญรูจี เขตธนบุรี, กรุงเทพฯ', 'areaEN': 'Hiran Ruchi, Khet Thon Buri, Bangkok', 'stationType': 'GROUND', 'lat': '13.732846', 'long': '100.487662', 'forecast': [], 'AQILast': {'date': '2025-05-26', 'time': '15:00', 'PM25': {'color_id': '1', 'aqi': '16', 'value': '9.8'}, 'PM10': {'color_id': '0', 'aqi': '-1', 'value': '-1'}, 'O3': {'color_id': '0', 'aqi': '-1', 'value': '-1'}, 'CO': {'color_id': '0', 'aqi': '-1', 'value': '-1'}, 'NO2': {'color_id': '0', 'aqi': '-1', 'value': '-1'}, 'SO2': {'color_id': '0', 'aqi': '-1', 'value': '-1'}, 'AQI': {'color_id': '1', 'aqi': '16', 'param': 'PM25'}}}, {'stationID': '03t', 'nameTH': 'ริมถนนทางหลวงหมายเลข 3902 ', 'nameEN': 'Highway NO.3902 km.13 +600', 'areaTH': 'ริมถนนกาญจนาภิเษก เขตบางขุนเทียน, กรุงเทพฯ', 'areaEN': 'Kanchanaphisek Rd, Bang Khun Thian, Bangkok', 'stationType': 'GROUND', 'lat': '13.636514', 'long': '100.414262', 'forecast': [], 'AQILast': {'date': '2025-05-26', 'time': '15:00', 'PM25': {'color_id': '1', 'aqi': '18', 'value': '11.0'}, 'PM10': {'color_id': '0', 'aqi': '-1', 'value': '-1'}, 'O3': {'color_id': '0', 'aqi': '-1', 'value': '-1'}, 'CO': {'color_id': '0', 'aqi': '-1', 'value': '-1'}, 'NO2': {'color_id': '0', 'aqi': '-1', 'value': '-1'}, 'SO2': {'color_id': '0', 'aqi': '-999', 'value': '-1'}, 'AQI': {'color_id': '1', 'aqi': '18', 'param': 'PM25'}}}]\n"
     ]
    }
   ],
   "source": [
    "#logger = get_run_logger()\n",
    "response = requests.get(url=base_url+path)\n",
    "response.raise_for_status()\n",
    "AQI_stats = response.json()\n",
    "data = AQI_stats['stations']\n",
    "print(data[0:2])\n",
    "#logger.info(AQI_stats)"
   ]
  },
  {
   "cell_type": "code",
   "execution_count": 10,
   "id": "d429a33e-5d8f-412d-af29-23ff292b6cc8",
   "metadata": {},
   "outputs": [
    {
     "data": {
      "text/plain": [
       "{'stationID': '02t',\n",
       " 'nameTH': 'มหาวิทยาลัยราชภัฏบ้านสมเด็จเจ้าพระยา',\n",
       " 'nameEN': 'Bansomdejchaopraya Rajabhat University',\n",
       " 'areaTH': 'แขวงหิรัญรูจี เขตธนบุรี, กรุงเทพฯ',\n",
       " 'areaEN': 'Hiran Ruchi, Khet Thon Buri, Bangkok',\n",
       " 'stationType': 'GROUND',\n",
       " 'lat': '13.732846',\n",
       " 'long': '100.487662',\n",
       " 'forecast': [],\n",
       " 'AQILast': {'date': '2025-05-26',\n",
       "  'time': '15:00',\n",
       "  'PM25': {'color_id': '1', 'aqi': '16', 'value': '9.8'},\n",
       "  'PM10': {'color_id': '0', 'aqi': '-1', 'value': '-1'},\n",
       "  'O3': {'color_id': '0', 'aqi': '-1', 'value': '-1'},\n",
       "  'CO': {'color_id': '0', 'aqi': '-1', 'value': '-1'},\n",
       "  'NO2': {'color_id': '0', 'aqi': '-1', 'value': '-1'},\n",
       "  'SO2': {'color_id': '0', 'aqi': '-1', 'value': '-1'},\n",
       "  'AQI': {'color_id': '1', 'aqi': '16', 'param': 'PM25'}}}"
      ]
     },
     "execution_count": 10,
     "metadata": {},
     "output_type": "execute_result"
    }
   ],
   "source": [
    "data[0]"
   ]
  },
  {
   "cell_type": "code",
   "execution_count": 11,
   "id": "388b76af-2ee7-4aaf-90ce-ab501efa0d2d",
   "metadata": {},
   "outputs": [
    {
     "data": {
      "text/html": [
       "<div>\n",
       "<style scoped>\n",
       "    .dataframe tbody tr th:only-of-type {\n",
       "        vertical-align: middle;\n",
       "    }\n",
       "\n",
       "    .dataframe tbody tr th {\n",
       "        vertical-align: top;\n",
       "    }\n",
       "\n",
       "    .dataframe thead th {\n",
       "        text-align: right;\n",
       "    }\n",
       "</style>\n",
       "<table border=\"1\" class=\"dataframe\">\n",
       "  <thead>\n",
       "    <tr style=\"text-align: right;\">\n",
       "      <th></th>\n",
       "      <th>stationID</th>\n",
       "      <th>nameTH</th>\n",
       "      <th>nameEN</th>\n",
       "      <th>areaTH</th>\n",
       "      <th>areaEN</th>\n",
       "      <th>stationType</th>\n",
       "      <th>lat</th>\n",
       "      <th>long</th>\n",
       "      <th>forecast</th>\n",
       "      <th>AQILast</th>\n",
       "    </tr>\n",
       "  </thead>\n",
       "  <tbody>\n",
       "    <tr>\n",
       "      <th>0</th>\n",
       "      <td>02t</td>\n",
       "      <td>มหาวิทยาลัยราชภัฏบ้านสมเด็จเจ้าพระยา</td>\n",
       "      <td>Bansomdejchaopraya Rajabhat University</td>\n",
       "      <td>แขวงหิรัญรูจี เขตธนบุรี, กรุงเทพฯ</td>\n",
       "      <td>Hiran Ruchi, Khet Thon Buri, Bangkok</td>\n",
       "      <td>GROUND</td>\n",
       "      <td>13.732846</td>\n",
       "      <td>100.487662</td>\n",
       "      <td>[]</td>\n",
       "      <td>{'date': '2025-05-26', 'time': '15:00', 'PM25'...</td>\n",
       "    </tr>\n",
       "    <tr>\n",
       "      <th>1</th>\n",
       "      <td>03t</td>\n",
       "      <td>ริมถนนทางหลวงหมายเลข 3902</td>\n",
       "      <td>Highway NO.3902 km.13 +600</td>\n",
       "      <td>ริมถนนกาญจนาภิเษก เขตบางขุนเทียน, กรุงเทพฯ</td>\n",
       "      <td>Kanchanaphisek Rd, Bang Khun Thian, Bangkok</td>\n",
       "      <td>GROUND</td>\n",
       "      <td>13.636514</td>\n",
       "      <td>100.414262</td>\n",
       "      <td>[]</td>\n",
       "      <td>{'date': '2025-05-26', 'time': '15:00', 'PM25'...</td>\n",
       "    </tr>\n",
       "    <tr>\n",
       "      <th>2</th>\n",
       "      <td>11t</td>\n",
       "      <td>การเคหะชุมชนห้วยขวาง</td>\n",
       "      <td>National Housing  Huaykwang</td>\n",
       "      <td>แขวงดินแดง เขตดินแดง, กรุงเทพฯ</td>\n",
       "      <td>Din Daeng, Khet Din Daeng, Bangkok</td>\n",
       "      <td>GROUND</td>\n",
       "      <td>13.77553</td>\n",
       "      <td>100.569195</td>\n",
       "      <td>[]</td>\n",
       "      <td>{'date': '2025-05-02', 'time': '12:00', 'PM25'...</td>\n",
       "    </tr>\n",
       "    <tr>\n",
       "      <th>3</th>\n",
       "      <td>12t</td>\n",
       "      <td>โรงเรียนนนทรีวิทยา</td>\n",
       "      <td>Nonsi Witthaya School</td>\n",
       "      <td>แขวงช่องนนทรี เขตยานนาวา, กรุงเทพฯ</td>\n",
       "      <td>Chong Nonsi, Khet Yannawa, Bangkok</td>\n",
       "      <td>GROUND</td>\n",
       "      <td>13.70806667</td>\n",
       "      <td>100.5473333</td>\n",
       "      <td>[]</td>\n",
       "      <td>{'date': '2025-05-26', 'time': '15:00', 'PM25'...</td>\n",
       "    </tr>\n",
       "    <tr>\n",
       "      <th>4</th>\n",
       "      <td>50t</td>\n",
       "      <td>โรงพยาบาลจุฬาลงกรณ์</td>\n",
       "      <td>Chulalongkorn Hospital</td>\n",
       "      <td>ริมถนนพระราม 4 เขตปทุมวัน, กรุงเทพฯ</td>\n",
       "      <td>Rama IV Rd. Khet Pathum Wan, Bangkok</td>\n",
       "      <td>GROUND</td>\n",
       "      <td>13.729852</td>\n",
       "      <td>100.536501</td>\n",
       "      <td>[]</td>\n",
       "      <td>{'date': '2025-05-26', 'time': '15:00', 'PM25'...</td>\n",
       "    </tr>\n",
       "  </tbody>\n",
       "</table>\n",
       "</div>"
      ],
      "text/plain": [
       "  stationID                                nameTH  \\\n",
       "0       02t  มหาวิทยาลัยราชภัฏบ้านสมเด็จเจ้าพระยา   \n",
       "1       03t            ริมถนนทางหลวงหมายเลข 3902    \n",
       "2       11t                 การเคหะชุมชนห้วยขวาง    \n",
       "3       12t                   โรงเรียนนนทรีวิทยา    \n",
       "4       50t                   โรงพยาบาลจุฬาลงกรณ์   \n",
       "\n",
       "                                   nameEN  \\\n",
       "0  Bansomdejchaopraya Rajabhat University   \n",
       "1              Highway NO.3902 km.13 +600   \n",
       "2             National Housing  Huaykwang   \n",
       "3                   Nonsi Witthaya School   \n",
       "4                  Chulalongkorn Hospital   \n",
       "\n",
       "                                       areaTH  \\\n",
       "0           แขวงหิรัญรูจี เขตธนบุรี, กรุงเทพฯ   \n",
       "1  ริมถนนกาญจนาภิเษก เขตบางขุนเทียน, กรุงเทพฯ   \n",
       "2              แขวงดินแดง เขตดินแดง, กรุงเทพฯ   \n",
       "3          แขวงช่องนนทรี เขตยานนาวา, กรุงเทพฯ   \n",
       "4         ริมถนนพระราม 4 เขตปทุมวัน, กรุงเทพฯ   \n",
       "\n",
       "                                        areaEN stationType          lat  \\\n",
       "0         Hiran Ruchi, Khet Thon Buri, Bangkok      GROUND    13.732846   \n",
       "1  Kanchanaphisek Rd, Bang Khun Thian, Bangkok      GROUND    13.636514   \n",
       "2           Din Daeng, Khet Din Daeng, Bangkok      GROUND     13.77553   \n",
       "3           Chong Nonsi, Khet Yannawa, Bangkok      GROUND  13.70806667   \n",
       "4         Rama IV Rd. Khet Pathum Wan, Bangkok      GROUND    13.729852   \n",
       "\n",
       "          long forecast                                            AQILast  \n",
       "0   100.487662       []  {'date': '2025-05-26', 'time': '15:00', 'PM25'...  \n",
       "1   100.414262       []  {'date': '2025-05-26', 'time': '15:00', 'PM25'...  \n",
       "2   100.569195       []  {'date': '2025-05-02', 'time': '12:00', 'PM25'...  \n",
       "3  100.5473333       []  {'date': '2025-05-26', 'time': '15:00', 'PM25'...  \n",
       "4   100.536501       []  {'date': '2025-05-26', 'time': '15:00', 'PM25'...  "
      ]
     },
     "execution_count": 11,
     "metadata": {},
     "output_type": "execute_result"
    }
   ],
   "source": [
    "df = pd.DataFrame(data)\n",
    "df.head()"
   ]
  },
  {
   "cell_type": "code",
   "execution_count": 14,
   "id": "ceb291c6-9326-4623-be66-58504a2fca02",
   "metadata": {},
   "outputs": [
    {
     "data": {
      "text/plain": [
       "184"
      ]
     },
     "execution_count": 14,
     "metadata": {},
     "output_type": "execute_result"
    }
   ],
   "source": [
    "# Count number of stations\n",
    "df['nameEN'].nunique()"
   ]
  },
  {
   "cell_type": "code",
   "execution_count": null,
   "id": "c4baf5f8-07de-41c8-8401-11e7d448e78d",
   "metadata": {},
   "outputs": [],
   "source": [
    "# "
   ]
  }
 ],
 "metadata": {
  "kernelspec": {
   "display_name": "Python 3 (ipykernel)",
   "language": "python",
   "name": "python3"
  },
  "language_info": {
   "codemirror_mode": {
    "name": "ipython",
    "version": 3
   },
   "file_extension": ".py",
   "mimetype": "text/x-python",
   "name": "python",
   "nbconvert_exporter": "python",
   "pygments_lexer": "ipython3",
   "version": "3.11.9"
  }
 },
 "nbformat": 4,
 "nbformat_minor": 5
}
